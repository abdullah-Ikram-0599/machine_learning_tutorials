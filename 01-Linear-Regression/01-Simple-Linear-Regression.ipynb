{
 "cells": [
  {
   "cell_type": "code",
   "execution_count": 1,
   "id": "99aff740-0a16-4b69-9860-ca2a831b5dc8",
   "metadata": {},
   "outputs": [],
   "source": [
    "# Importing Libraries\n",
    "import numpy as np\n",
    "import pandas as pd\n",
    "import seaborn as sns\n",
    "import matplotlib.pyplot as plt\n",
    "from scipy import stats\n",
    "from sklearn.linear_model import LinearRegression\n",
    "from sklearn.metrics import mean_squared_error\n",
    "from sklearn.metrics import r2_score"
   ]
  },
  {
   "cell_type": "code",
   "execution_count": 2,
   "id": "9394dbeb-0cbf-4b31-8caa-c25a5fb9351d",
   "metadata": {},
   "outputs": [],
   "source": [
    "# Importing and storing the dataset in a Pandas dataframe\n",
    "df = pd.read_csv(\"./Advertising.csv\", usecols=['TV', 'sales'])"
   ]
  },
  {
   "cell_type": "markdown",
   "id": "e8af3b53-717e-4971-9721-86381b4325ce",
   "metadata": {},
   "source": [
    "#### Inspecting the dataset"
   ]
  },
  {
   "cell_type": "code",
   "execution_count": 3,
   "id": "3422b7fe-85e5-4528-b9ef-cd50fedc4347",
   "metadata": {},
   "outputs": [
    {
     "data": {
      "text/html": [
       "<div>\n",
       "<style scoped>\n",
       "    .dataframe tbody tr th:only-of-type {\n",
       "        vertical-align: middle;\n",
       "    }\n",
       "\n",
       "    .dataframe tbody tr th {\n",
       "        vertical-align: top;\n",
       "    }\n",
       "\n",
       "    .dataframe thead th {\n",
       "        text-align: right;\n",
       "    }\n",
       "</style>\n",
       "<table border=\"1\" class=\"dataframe\">\n",
       "  <thead>\n",
       "    <tr style=\"text-align: right;\">\n",
       "      <th></th>\n",
       "      <th>TV</th>\n",
       "      <th>sales</th>\n",
       "    </tr>\n",
       "  </thead>\n",
       "  <tbody>\n",
       "    <tr>\n",
       "      <th>0</th>\n",
       "      <td>230.1</td>\n",
       "      <td>22.1</td>\n",
       "    </tr>\n",
       "    <tr>\n",
       "      <th>1</th>\n",
       "      <td>44.5</td>\n",
       "      <td>10.4</td>\n",
       "    </tr>\n",
       "    <tr>\n",
       "      <th>2</th>\n",
       "      <td>17.2</td>\n",
       "      <td>9.3</td>\n",
       "    </tr>\n",
       "    <tr>\n",
       "      <th>3</th>\n",
       "      <td>151.5</td>\n",
       "      <td>18.5</td>\n",
       "    </tr>\n",
       "    <tr>\n",
       "      <th>4</th>\n",
       "      <td>180.8</td>\n",
       "      <td>12.9</td>\n",
       "    </tr>\n",
       "  </tbody>\n",
       "</table>\n",
       "</div>"
      ],
      "text/plain": [
       "      TV  sales\n",
       "0  230.1   22.1\n",
       "1   44.5   10.4\n",
       "2   17.2    9.3\n",
       "3  151.5   18.5\n",
       "4  180.8   12.9"
      ]
     },
     "execution_count": 3,
     "metadata": {},
     "output_type": "execute_result"
    }
   ],
   "source": [
    "df.head()"
   ]
  },
  {
   "cell_type": "markdown",
   "id": "f4e340cf-8212-4651-96b3-e4ad9d1b2130",
   "metadata": {},
   "source": [
    "#### Checking the datatype for each column"
   ]
  },
  {
   "cell_type": "code",
   "execution_count": 4,
   "id": "f99d5785-69d6-474f-b4bb-2c0936eeb19e",
   "metadata": {},
   "outputs": [
    {
     "name": "stdout",
     "output_type": "stream",
     "text": [
      "<class 'pandas.core.frame.DataFrame'>\n",
      "RangeIndex: 200 entries, 0 to 199\n",
      "Data columns (total 2 columns):\n",
      " #   Column  Non-Null Count  Dtype  \n",
      "---  ------  --------------  -----  \n",
      " 0   TV      200 non-null    float64\n",
      " 1   sales   200 non-null    float64\n",
      "dtypes: float64(2)\n",
      "memory usage: 3.3 KB\n"
     ]
    }
   ],
   "source": [
    "df.info()"
   ]
  },
  {
   "cell_type": "markdown",
   "id": "bc69424b-967e-4b0b-b90c-90ebc8761050",
   "metadata": {},
   "source": [
    "#### Insight 1: There are 2 columns (namely TV and sales) and 200 rows in the dataset.\n",
    "#### Insight 2: Both columns are of float data type.\n",
    "#### Insight 3: Since it has only one independent variable (TV), and the dependent variable is continuous (sales), we can use simple linear regression for it. "
   ]
  },
  {
   "cell_type": "markdown",
   "id": "c9f23c14-a0c0-41c3-8d2f-493fb2332297",
   "metadata": {},
   "source": [
    "#### Checking whether there are any missing values in our dataset."
   ]
  },
  {
   "cell_type": "code",
   "execution_count": 5,
   "id": "c61edca0-162a-4dd6-95df-8c9402569c5d",
   "metadata": {},
   "outputs": [
    {
     "data": {
      "text/plain": [
       "TV       0\n",
       "sales    0\n",
       "dtype: int64"
      ]
     },
     "execution_count": 5,
     "metadata": {},
     "output_type": "execute_result"
    }
   ],
   "source": [
    "# Checking for missing values\n",
    "df.isnull().sum()"
   ]
  },
  {
   "cell_type": "markdown",
   "id": "70bfddd0-67d7-4b2a-b6ba-44c621339574",
   "metadata": {},
   "source": [
    "#### Insight: There are no missing values in the dataset"
   ]
  },
  {
   "cell_type": "markdown",
   "id": "a954dc87-a01f-4b61-b53b-f6d8c2d8b26d",
   "metadata": {},
   "source": [
    "#### Plotting box plot: To check whether there are outliers in our dataset visually"
   ]
  },
  {
   "cell_type": "code",
   "execution_count": 6,
   "id": "31d7647e-6514-4abe-a0d8-0388a4b32422",
   "metadata": {},
   "outputs": [
    {
     "data": {
      "text/plain": [
       "<Axes: ylabel='TV'>"
      ]
     },
     "execution_count": 6,
     "metadata": {},
     "output_type": "execute_result"
    },
    {
     "data": {
      "image/png": "[encoded data removed]",
      "text/plain": [
       "<Figure size 640x480 with 1 Axes>"
      ]
     },
     "metadata": {},
     "output_type": "display_data"
    }
   ],
   "source": [
    "# Checking for outliers visually \n",
    "sns.boxplot(df['TV'])"
   ]
  },
  {
   "cell_type": "markdown",
   "id": "dd30522c-dd9a-46a6-8d15-2b4f24e79611",
   "metadata": {},
   "source": [
    "#### Checking skewness of TV column (feature) to check how much it deviates from normal distribution."
   ]
  },
  {
   "cell_type": "code",
   "execution_count": 7,
   "id": "85af1d1c-b3ca-4a00-90d6-71bef846f452",
   "metadata": {},
   "outputs": [
    {
     "data": {
      "text/plain": [
       "np.float64(-0.06985336213274573)"
      ]
     },
     "execution_count": 7,
     "metadata": {},
     "output_type": "execute_result"
    }
   ],
   "source": [
    "# Checking Skewness - Deviation from normal distribution\n",
    "df['TV'].skew()"
   ]
  },
  {
   "cell_type": "markdown",
   "id": "ca78e4ab-ac95-400d-92ac-ea447b5a22bc",
   "metadata": {},
   "source": [
    "#### Insight: TV column is negatively skewed (left-skewed). However, it is almost symmetric)"
   ]
  },
  {
   "cell_type": "markdown",
   "id": "cf90ba8f-4ce4-41da-8a2c-30fbc8745488",
   "metadata": {},
   "source": [
    "#### Checking the KDE plot to guide further steps (such as which technique to use in checking for outliers.)\n",
    "#### If data is normally distributed, we use Z-score method. Otherwise, we use IQR method."
   ]
  },
  {
   "cell_type": "code",
   "execution_count": 8,
   "id": "2ee10b31-6fc6-4a36-962c-a395bd29d40e",
   "metadata": {},
   "outputs": [
    {
     "data": {
      "image/png": "[encoded data removed]",
      "text/plain": [
       "<Figure size 640x480 with 1 Axes>"
      ]
     },
     "metadata": {},
     "output_type": "display_data"
    }
   ],
   "source": [
    "# checking shape of distribution visually\n",
    "sns.kdeplot(df['TV'], fill=True)  # 'fill' replaces 'shade' in newer versions\n",
    "plt.title('KDE Plot of TV')\n",
    "plt.show()"
   ]
  },
  {
   "cell_type": "markdown",
   "id": "73e5ff66-a01d-425c-b7a5-c47c25167f30",
   "metadata": {},
   "source": [
    "#### Insight: Since the distribution for TV column is non-normal, we use IQR method for detecting outliers."
   ]
  },
  {
   "cell_type": "code",
   "execution_count": 9,
   "id": "4ce87b60-c222-4416-af82-07408c7265fc",
   "metadata": {},
   "outputs": [],
   "source": [
    "# Function to detect outliers using IQR method\n",
    "def find_outliers_IQR(df, col):\n",
    "    q1 = df[col].quantile(0.25)         # 25th percentile (Q1)\n",
    "    q3 = df[col].quantile(0.75)         # 75th percentile (Q3)\n",
    "    IQR = q3 - q1                       # Interquartile Range\n",
    "    lower_fence = q1 - 1.5 * IQR        # Lower bound for outliers\n",
    "    upper_fence = q3 + 1.5 * IQR        # Upper bound for outliers\n",
    "    outliers = df[col][(df[col] < lower_fence) | (df[col] > upper_fence)]\n",
    "    return outliers                     # Returns a Series of outlier values"
   ]
  },
  {
   "cell_type": "code",
   "execution_count": 10,
   "id": "76d43152-9107-4398-8418-fa3543ecac31",
   "metadata": {},
   "outputs": [
    {
     "name": "stdout",
     "output_type": "stream",
     "text": [
      "0\n"
     ]
    }
   ],
   "source": [
    "outliers = find_outliers_IQR(df, 'TV')\n",
    "print(len(outliers))"
   ]
  },
  {
   "cell_type": "markdown",
   "id": "8dcb6fbc-cf0f-4cdf-bb91-32824eaf117c",
   "metadata": {},
   "source": [
    "#### Insight: There are no outliers in the dataset. "
   ]
  },
  {
   "cell_type": "code",
   "execution_count": 11,
   "id": "6f883198-1b84-45f0-912f-b5ce7594311b",
   "metadata": {},
   "outputs": [],
   "source": [
    "# Splitting dataset into X (known as Design matrix) and y (called response variable / target variable / dependent variable)\n",
    "X = df[['TV']]\n",
    "y = df[['sales']]"
   ]
  },
  {
   "cell_type": "code",
   "execution_count": 12,
   "id": "4d0327a0-7199-42e5-977a-73d263f22a6f",
   "metadata": {},
   "outputs": [
    {
     "data": {
      "image/png": "[encoded data removed]",
      "text/plain": [
       "<Figure size 640x480 with 1 Axes>"
      ]
     },
     "metadata": {},
     "output_type": "display_data"
    }
   ],
   "source": [
    "# Plotting a scatter plot for Sales vs. TV\n",
    "plt.scatter(X, y)\n",
    "plt.title(\"Sales vs. TV\")\n",
    "plt.xlabel(\"Sales\")\n",
    "plt.ylabel(\"TV\")\n",
    "plt.show()"
   ]
  },
  {
   "cell_type": "markdown",
   "id": "157bc6e9-4206-4394-a902-fe3f0f6f5b10",
   "metadata": {},
   "source": [
    "#### Insight: Sales and TV columns have a linear relationship. "
   ]
  },
  {
   "cell_type": "markdown",
   "id": "c99cba41-19ee-40a6-8125-38f270502a1e",
   "metadata": {},
   "source": [
    "#### Fitting our model on the whole dataset."
   ]
  },
  {
   "cell_type": "code",
   "execution_count": 13,
   "id": "78f69673-8a83-4513-b752-5b9c4d6f6efa",
   "metadata": {},
   "outputs": [],
   "source": [
    "# Training the model\n",
    "reg_model = LinearRegression().fit(X, y)"
   ]
  },
  {
   "cell_type": "markdown",
   "id": "f66d73db-a3d9-47ac-bf2e-c48435c20692",
   "metadata": {},
   "source": [
    "#### Obtaining regression coefficients: slope and intercept"
   ]
  },
  {
   "cell_type": "code",
   "execution_count": 14,
   "id": "1dd46c80-f4bc-4ba9-9837-ca339fb7a551",
   "metadata": {},
   "outputs": [
    {
     "name": "stdout",
     "output_type": "stream",
     "text": [
      "Slope is:  0.04753664043301975\n",
      "Intercept:  7.032593549127695\n"
     ]
    }
   ],
   "source": [
    "# Checking regresssion coefficients (slope and intercept)\n",
    "slope = reg_model.coef_[0][0]\n",
    "intercept = reg_model.intercept_[0]\n",
    "print(\"Slope is: \", slope)\n",
    "print(\"Intercept: \", intercept)"
   ]
  },
  {
   "cell_type": "markdown",
   "id": "10c23774-7bfb-4ac1-8ef2-6c691a96e37e",
   "metadata": {},
   "source": [
    "#### Obtaining prediction for a single feature vector."
   ]
  },
  {
   "cell_type": "code",
   "execution_count": 15,
   "id": "800864ae-40fc-4a68-adc0-ccba577a2bbc",
   "metadata": {},
   "outputs": [
    {
     "data": {
      "text/plain": [
       "array([[17.97077451]])"
      ]
     },
     "execution_count": 15,
     "metadata": {},
     "output_type": "execute_result"
    }
   ],
   "source": [
    "# Predictiing for a single observation\n",
    "observation = pd.DataFrame([{'TV': 230.1}])\n",
    "reg_model.predict(observation)"
   ]
  },
  {
   "cell_type": "markdown",
   "id": "58829a75-ed6d-4d2f-a1eb-12b7927af16d",
   "metadata": {},
   "source": [
    "#### Obtaining predictions for entire dataset (more precisely: for entire design matrix)"
   ]
  },
  {
   "cell_type": "code",
   "execution_count": 16,
   "id": "89170421-8133-4eb0-8165-95144d8e52f1",
   "metadata": {},
   "outputs": [],
   "source": [
    "# Predicting for entire dataset\n",
    "y_true = df['sales']\n",
    "y_pred = reg_model.predict(df[['TV']])"
   ]
  },
  {
   "cell_type": "markdown",
   "id": "835c0a31-6af3-4cca-bd28-b50c04be2754",
   "metadata": {},
   "source": [
    "#### Plotting Best fit line"
   ]
  },
  {
   "cell_type": "code",
   "execution_count": 17,
   "id": "ad40ad7b-a9b7-45cb-af93-0f2aaf7701b7",
   "metadata": {},
   "outputs": [
    {
     "data": {
      "image/png": "[encoded data removed]",
      "text/plain": [
       "<Figure size 640x480 with 1 Axes>"
      ]
     },
     "metadata": {},
     "output_type": "display_data"
    }
   ],
   "source": [
    "# Plotting the original data points\n",
    "plt.scatter(X, y, color='blue', label='Data points')\n",
    "\n",
    "# Plotting the best fit line\n",
    "plt.plot(X, y_pred, color='red', linewidth=2, label=f'Best fit line: y = {slope:.2f}x + {intercept:.2f}')\n",
    "\n",
    "# Adding labels and legend\n",
    "plt.xlabel('X (Feature)')\n",
    "plt.ylabel('y (Target)')\n",
    "plt.title('Linear Regression Best Fit Line')\n",
    "plt.legend()\n",
    "\n",
    "# Showing the plot\n",
    "plt.show()"
   ]
  },
  {
   "cell_type": "markdown",
   "id": "b56e1acd-3b95-41f4-b509-120ccbdc7106",
   "metadata": {},
   "source": [
    "### Evaluating our trained model: "
   ]
  },
  {
   "cell_type": "code",
   "execution_count": 18,
   "id": "40216e01-7d3c-45af-b62e-4f53701ea2ac",
   "metadata": {},
   "outputs": [
    {
     "data": {
      "text/plain": [
       "10.512652915656757"
      ]
     },
     "execution_count": 18,
     "metadata": {},
     "output_type": "execute_result"
    }
   ],
   "source": [
    "# Calculating mean squared error\n",
    "mean_squared_error(y_true, y_pred)"
   ]
  },
  {
   "cell_type": "markdown",
   "id": "43673add-dbb6-4a98-a685-222e5eb7c559",
   "metadata": {},
   "source": [
    "### Why use this ?\n",
    "#### Ans: Because it is usually default for gradient based optimization (since it is Differentiable). \n",
    "#### Note: Although, other metrics can be used, but only for evaluation. "
   ]
  },
  {
   "cell_type": "code",
   "execution_count": 19,
   "id": "a7bd2793-b4e7-4b37-bc12-a6d6e07347dd",
   "metadata": {},
   "outputs": [
    {
     "data": {
      "text/plain": [
       "0.611875050850071"
      ]
     },
     "execution_count": 19,
     "metadata": {},
     "output_type": "execute_result"
    }
   ],
   "source": [
    "# Calculating r2_score - How much variance in the original dataset is explained by our model. Ranges between 0 and 1. \n",
    "r2_score(y_true, y_pred)"
   ]
  },
  {
   "cell_type": "markdown",
   "id": "7f4cc7ac-ed79-420f-a732-5514c9fc56b1",
   "metadata": {},
   "source": [
    "### Why use this ?\n",
    "#### Ans: Because it calculates how much variance in the original dataset is explained by our model. (Ranges between 0 and 1). Also, it is  much more interpretable as compared to other evalution metrics."
   ]
  },
  {
   "cell_type": "markdown",
   "id": "1bde0e7e-07b4-46da-86a1-065aa012174a",
   "metadata": {},
   "source": [
    "## Summary:\n",
    "### 1. There are no missing values and outliers in the dataset (verified by IQR/ box plots). \n",
    "### 2. Independent variable (TV) is left skewed (skewness = 0.06), but nearly symmetric.(thereshold is abs(0.5). \n",
    "### 3. Slope of trained model is 0.047: For every unit increase in TV ad spending, sales increase by ~0.047 units. \n",
    "### 4. Intercept of trained model is 7.03: Baseline sales when TV ads are zero. \n",
    "### 5. Trained model is basically the best fit line that minimizes Ordinary least squares (OLS) error. \n",
    "### 6. Mean squared error: 10.51. - Ideal for Gradient descent, since it is differentiable.  \n",
    "### 7. R2 score: 0.61. - 61% of variance in the dataset is explained in model. It is slightly better than just guessing the average.\n",
    "### Further improvements: L1/L2/Elastic net regularization, and hyperparameter tuning technoques.  Stay tuned !"
   ]
  }
 ],
 "metadata": {
  "kernelspec": {
   "display_name": "Python 3 (ipykernel)",
   "language": "python",
   "name": "python3"
  },
  "language_info": {
   "codemirror_mode": {
    "name": "ipython",
    "version": 3
   },
   "file_extension": ".py",
   "mimetype": "text/x-python",
   "name": "python",
   "nbconvert_exporter": "python",
   "pygments_lexer": "ipython3",
   "version": "3.13.3"
  }
 },
 "nbformat": 4,
 "nbformat_minor": 5
}
